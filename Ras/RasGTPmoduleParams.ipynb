{
 "cells": [
  {
   "cell_type": "code",
   "execution_count": 3,
   "metadata": {},
   "outputs": [],
   "source": [
    "## Libraries:\n",
    "\n",
    "# a) Bond graphs\n",
    "import BondGraphTools as bgt\n",
    "\n",
    "# b) Data extraction\n",
    "from pyomexmeta import RDF, eUriType\n",
    "import os\n",
    "import sys\n",
    "import xml.etree.ElementTree as ET\n",
    "import rdflib\n",
    "from lxml import etree\n",
    "import re\n",
    "\n",
    "# c) General\n",
    "import copy\n",
    "import difflib\n",
    "import numpy as np\n",
    "import pandas as pd\n",
    "import math\n",
    "import operator as op\n",
    "import ast\n",
    "import re\n",
    "\n",
    "# d) Plot\n",
    "import matplotlib.pyplot as plt\n",
    "from matplotlib import markers\n",
    "import matplotlib.font_manager as font_manager\n",
    "import matplotlib.colors\n",
    "from pylab import rcParams\n",
    "\n",
    "\n",
    "# Integration and fitting\n",
    "from scipy.optimize import curve_fit, minimize, least_squares, newton_krylov, basinhopping\n",
    "from scipy  import integrate\n",
    "import scipy.stats as stats\n",
    "\n"
   ]
  },
  {
   "cell_type": "code",
   "execution_count": 68,
   "metadata": {},
   "outputs": [],
   "source": [
    "data=pd.read_csv('RasGTP_module_data.csv') \n",
    "Data={}\n",
    "cellmlKinetics={}\n",
    "labels=[]\n",
    "for label in data:\n",
    "    labels.append(label)\n",
    "    Data[label]=[] \n",
    "    Data[label].append(data[label])\n",
    "# labels for cellml kinetics\n",
    "for label in labels:\n",
    "    for cell in Data[label]:\n",
    "        cellmlKinetics[label]=[]  \n",
    "        for c in cell:\n",
    "            cellmlKinetics[label].append(c)\n",
    "time= cellmlKinetics['environment | time (minute)']"
   ]
  },
  {
   "cell_type": "code",
   "execution_count": 69,
   "metadata": {},
   "outputs": [],
   "source": [
    "k12=0.0163\n",
    "kn12=10\n",
    "\n",
    "#irreversible\n",
    "k13=15\n",
    "\n",
    "k14=0.005\n",
    "kn14=60\n",
    "\n",
    "#irreversible\n",
    "k15=720\n",
    "\n",
    "k16=0.0012\n",
    "kn16=3\n",
    "\n",
    "trueValues = [k12,kn12,k13,k14,kn14,k15,k16,kn16]\n",
    "rowM=['r12','r13','r14','r15','r16','ShcGS','RasGDP','Ras_ShcGS','RasGTP','GAP','Ras_GAP','Ras_Raf']\n",
    "\n",
    "M = np.zeros([len(trueValues),len(rowM)])  \n"
   ]
  },
  {
   "cell_type": "code",
   "execution_count": 70,
   "metadata": {},
   "outputs": [
    {
     "name": "stdout",
     "output_type": "stream",
     "text": [
      "r12  ==>  0.9549941838101605\n",
      "r13  ==>  1.432491275715242\n",
      "r14  ==>  1.40422462980177\n",
      "r15  ==>  16.850695557621247\n",
      "r16  ==>  0.18663263259944843\n",
      "ShcGS  ==>  0.130645194234795\n",
      "RasGDP  ==>  0.13064519423479512\n",
      "Ras_ShcGS  ==>  10.471267961133337\n",
      "RasGTP  ==>  0.006429743733913092\n",
      "GAP  ==>  0.5537831716241434\n",
      "Ras_GAP  ==>  42.72820653236212\n",
      "Ras_Raf  ==>  16.0743593347826\n"
     ]
    }
   ],
   "source": [
    "# k12=r12*K_RasGDP*K_ShcGS\n",
    "M[0][0]=1\n",
    "M[0][5]=1\n",
    "M[0][6]=1\n",
    "\n",
    "# kn12=r12*K_Ras_ShcGS\n",
    "M[1][0]=1\n",
    "M[1][7]=1\n",
    "\n",
    "# k13=r_13*K_Ras_ShcGS\n",
    "M[2][1]=1\n",
    "M[2][7]=1\n",
    "\n",
    "# k14=r14*K_RasGTP*K_GAP\n",
    "M[3][2]=1\n",
    "M[3][8]=1\n",
    "M[3][9]=1\n",
    "\n",
    "# kn14=r14*K_Ras_GAP\n",
    "M[4][2]=1\n",
    "M[4][10]=1\n",
    "\n",
    "# k15=r15*K_Ras_GAP\n",
    "M[5][3]=1\n",
    "M[5][10]=1\n",
    "\n",
    "# k16=r16*K_RasGTP\n",
    "M[6][4]=1\n",
    "M[6][8]=1\n",
    "\n",
    "\n",
    "# kn16=r16*K_Ras_Raf\n",
    "M[7][4]=1\n",
    "M[7][11]=1\n",
    "\n",
    "logTrueValues = [];\n",
    "\n",
    "for k in trueValues:\n",
    "    logTrueValues.append(math.log(k))\n",
    "\n",
    "logTrueValues = np.array(logTrueValues)\n",
    "\n",
    "\n",
    "Mpinv = np.linalg.pinv(np.array(M))\n",
    "logU = Mpinv.dot(logTrueValues)\n",
    "\n",
    "thermodynamics = [math.exp(i) for i in list(logU)]\n",
    "for i in range(len(thermodynamics)):\n",
    "        print(rowM[i],' ==> ',thermodynamics[i])"
   ]
  },
  {
   "cell_type": "code",
   "execution_count": 71,
   "metadata": {
    "code_folding": [
     0
    ]
   },
   "outputs": [
    {
     "data": {
      "text/plain": [
       "[<matplotlib.lines.Line2D at 0x2703c81c630>]"
      ]
     },
     "execution_count": 71,
     "metadata": {},
     "output_type": "execute_result"
    },
    {
     "data": {
      "image/png": "[encoded data removed]",
      "text/plain": [
       "<Figure size 432x288 with 1 Axes>"
      ]
     },
     "metadata": {
      "needs_background": "light"
     },
     "output_type": "display_data"
    }
   ],
   "source": [
    "# v12 = r12*(K_RasGDP*K_ShcGS*X_RasGDP*X_ShcGS - K_Ras_ShcGS*X_Ras_ShcGS)\n",
    "\n",
    "v12=thermodynamics[0]*(thermodynamics[6]*thermodynamics[5]*np.array(cellmlKinetics['RasGDP | RasGDP (dimensionless)'])*np.array(cellmlKinetics['ShcGS | ShcGS (dimensionless)']) - \\\n",
    "                       thermodynamics[7]*np.array(cellmlKinetics['Ras_ShcGS | Ras_ShcGS (dimensionless)']))\n",
    "\n",
    "\n",
    "plt.plot(time[0:-800],cellmlKinetics['v12 | v12 (first_order_rate_constant)'][0:-800],'orange')\n",
    "plt.plot(time[0:-800],v12[0:-800],'k--')"
   ]
  },
  {
   "cell_type": "code",
   "execution_count": 83,
   "metadata": {
    "code_folding": [
     0
    ]
   },
   "outputs": [
    {
     "data": {
      "text/plain": [
       "[<matplotlib.lines.Line2D at 0x2703b570470>]"
      ]
     },
     "execution_count": 83,
     "metadata": {},
     "output_type": "execute_result"
    },
    {
     "data": {
      "image/png": "[encoded data removed]",
      "text/plain": [
       "<Figure size 432x288 with 1 Axes>"
      ]
     },
     "metadata": {
      "needs_background": "light"
     },
     "output_type": "display_data"
    }
   ],
   "source": [
    "# v13 = r13*(K_Ras_ShcGS*X_Ras_ShcGS - 1e-9*K_RasGTP*X_RasGTP*K_ShcGS*X_ShcGS)\n",
    "\n",
    "v13=thermodynamics[1]*(thermodynamics[7]*np.array(cellmlKinetics['Ras_ShcGS | Ras_ShcGS (dimensionless)'])- \\\n",
    "                       1e-9*thermodynamics[8]*np.array(cellmlKinetics['RasGTP | RasGTP (dimensionless)'])**thermodynamics[5]*np.array(cellmlKinetics['ShcGS | ShcGS (dimensionless)']))\n",
    "\n",
    "plt.plot(time[0:-800],cellmlKinetics['v13 | v13 (first_order_rate_constant)'][0:-800], 'orange')\n",
    "plt.plot(time[0:-800],v13[0:-800],'k--')"
   ]
  },
  {
   "cell_type": "code",
   "execution_count": 81,
   "metadata": {
    "code_folding": []
   },
   "outputs": [
    {
     "data": {
      "text/plain": [
       "[<matplotlib.lines.Line2D at 0x2703b55f5f8>]"
      ]
     },
     "execution_count": 81,
     "metadata": {},
     "output_type": "execute_result"
    },
    {
     "data": {
      "image/png": "[encoded data removed]",
      "text/plain": [
       "<Figure size 432x288 with 1 Axes>"
      ]
     },
     "metadata": {
      "needs_background": "light"
     },
     "output_type": "display_data"
    }
   ],
   "source": [
    "# v14 = r14*(K_RasGTP*K_GAP*X_RasGTP*X_GAP - K_Ras_GAP*X_Ras_GAP)\n",
    "\n",
    "v14=thermodynamics[2]*(thermodynamics[8]*thermodynamics[9]*np.array(cellmlKinetics['RasGTP | RasGTP (dimensionless)'])*np.array(cellmlKinetics['GAP | GAP (dimensionless)']) -\\\n",
    "                      thermodynamics[10]*np.array(cellmlKinetics['Ras_GAP | Ras_GAP (dimensionless)']))\n",
    "\n",
    "plt.plot(time[0:-800],cellmlKinetics['v14 | v14 (first_order_rate_constant)'][0:-800],'orange')\n",
    "plt.plot(time[0:-800],v14[0:-800],'k--')"
   ]
  },
  {
   "cell_type": "code",
   "execution_count": 82,
   "metadata": {
    "code_folding": []
   },
   "outputs": [
    {
     "data": {
      "text/plain": [
       "[<matplotlib.lines.Line2D at 0x2703c473240>]"
      ]
     },
     "execution_count": 82,
     "metadata": {},
     "output_type": "execute_result"
    },
    {
     "data": {
      "image/png": "[encoded data removed]",
      "text/plain": [
       "<Figure size 432x288 with 1 Axes>"
      ]
     },
     "metadata": {
      "needs_background": "light"
     },
     "output_type": "display_data"
    }
   ],
   "source": [
    "# v15 = r15*(K_Ras_GAP*X_Ras_GAP - 1e-9*K_GAP*K_RasGDP*X_GAP*X_RasGDP)\n",
    "\n",
    "v15=thermodynamics[3]*(thermodynamics[10]*np.array(cellmlKinetics['Ras_GAP | Ras_GAP (dimensionless)'])-\\\n",
    "                       1e-9*thermodynamics[9]*np.array(cellmlKinetics['GAP | GAP (dimensionless)'])*thermodynamics[6]*np.array(cellmlKinetics['RasGDP | RasGDP (dimensionless)']))\n",
    "\n",
    "plt.plot(time[0:-800],cellmlKinetics['v15 | v15 (first_order_rate_constant)'][0:-800], 'orange')\n",
    "plt.plot(time[0:-800],v15[0:-800],'k--')"
   ]
  },
  {
   "cell_type": "code",
   "execution_count": 75,
   "metadata": {
    "code_folding": []
   },
   "outputs": [
    {
     "data": {
      "text/plain": [
       "[<matplotlib.lines.Line2D at 0x2703bbdd630>]"
      ]
     },
     "execution_count": 75,
     "metadata": {},
     "output_type": "execute_result"
    },
    {
     "data": {
      "image/png": "[encoded data removed]",
      "text/plain": [
       "<Figure size 432x288 with 1 Axes>"
      ]
     },
     "metadata": {
      "needs_background": "light"
     },
     "output_type": "display_data"
    }
   ],
   "source": [
    "# v16 = r16*(K_RasGTP*X_RasGTP - K_Ras_Raf*X_Ras_Raf)\n",
    "\n",
    "v16=thermodynamics[4]*(thermodynamics[8]*np.array(cellmlKinetics['RasGTP | RasGTP (dimensionless)']) -\\\n",
    "                      thermodynamics[11]*np.array(cellmlKinetics['Ras_Raf | Ras_Raf (dimensionless)']))\n",
    "\n",
    "plt.plot(time[0:-800],cellmlKinetics['v16 | v16 (first_order_rate_constant)'][0:-800],'orange')\n",
    "plt.plot(time[0:-800],v16[0:-800],'k--')"
   ]
  },
  {
   "cell_type": "code",
   "execution_count": null,
   "metadata": {},
   "outputs": [],
   "source": []
  }
 ],
 "metadata": {
  "kernelspec": {
   "display_name": "Python 3",
   "language": "python",
   "name": "python3"
  },
  "language_info": {
   "codemirror_mode": {
    "name": "ipython",
    "version": 3
   },
   "file_extension": ".py",
   "mimetype": "text/x-python",
   "name": "python",
   "nbconvert_exporter": "python",
   "pygments_lexer": "ipython3",
   "version": "3.7.3"
  }
 },
 "nbformat": 4,
 "nbformat_minor": 2
}
